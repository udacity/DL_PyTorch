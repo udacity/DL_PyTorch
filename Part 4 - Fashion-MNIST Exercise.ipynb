{
 "cells": [
  {
   "cell_type": "markdown",
   "metadata": {},
   "source": [
    "# Classifying Fashion-MNIST\n",
    "\n",
    "Now it's your turn to build a neural network. You'll be using the [Fashion-MNIST dataset](https://github.com/zalandoresearch/fashion-mnist), a drop-in replacement for the MNIST dataset. MNIST is actually quite trivial with neural networks where you can easily achieve better than 97% accuracy. Fashion-MNIST is a set of 28x28 greyscale images of clothes. It's more complex than MNIST, so it's a better representation of the actual performance of your network, and a better representation of datasets you'll use in the real world.\n",
    "\n",
    "<img src='assets/fashion-mnist-sprite.png' width=500px>\n",
    "\n",
    "In this notebook, you'll build your own neural network. For the most part, you could just copy and paste the code from Part 3, but you wouldn't be learning. It's important for you to write the code yourself and get it to work. Feel free to consult the previous notebook though as you work through this.\n",
    "\n",
    "First off, let's load the dataset through torchvision."
   ]
  },
  {
   "cell_type": "code",
   "execution_count": 63,
   "metadata": {},
   "outputs": [],
   "source": [
    "import torch\n",
    "from torchvision import datasets, transforms\n",
    "import helper\n",
    "\n",
    "# Define a transform to normalize the data\n",
    "transform = transforms.Compose([transforms.ToTensor(),\n",
    "                                transforms.Normalize((0.5, 0.5, 0.5), (0.5, 0.5, 0.5))])\n",
    "# Download and load the training data\n",
    "trainset = datasets.FashionMNIST('F_MNIST_data/', download=True, train=True, transform=transform)\n",
    "trainloader = torch.utils.data.DataLoader(trainset, batch_size=32, shuffle=True)\n",
    "\n",
    "# Download and load the test data\n",
    "testset = datasets.FashionMNIST('F_MNIST_data/', download=True, train=False, transform=transform)\n",
    "testloader = torch.utils.data.DataLoader(testset, batch_size=32, shuffle=True)"
   ]
  },
  {
   "cell_type": "markdown",
   "metadata": {},
   "source": [
    "Here we can see one of the images."
   ]
  },
  {
   "cell_type": "code",
   "execution_count": 64,
   "metadata": {},
   "outputs": [
    {
     "data": {
      "image/png": "[encoded data removed]",
      "text/plain": [
       "<Figure size 432x288 with 1 Axes>"
      ]
     },
     "metadata": {
      "image/png": {
       "height": 233,
       "width": 233
      }
     },
     "output_type": "display_data"
    }
   ],
   "source": [
    "image, label = next(iter(trainloader))\n",
    "helper.imshow(image[0,:]);"
   ]
  },
  {
   "cell_type": "markdown",
   "metadata": {},
   "source": [
    "With the data loaded, it's time to import the necessary packages."
   ]
  },
  {
   "cell_type": "code",
   "execution_count": 65,
   "metadata": {},
   "outputs": [],
   "source": [
    "%matplotlib inline\n",
    "%config InlineBackend.figure_format = 'retina'\n",
    "\n",
    "import matplotlib.pyplot as plt\n",
    "import numpy as np\n",
    "import time\n",
    "\n",
    "import torch\n",
    "from torch import nn\n",
    "from torch import optim\n",
    "import torch.nn.functional as F\n",
    "from torch.autograd import Variable\n",
    "from torchvision import datasets, transforms\n",
    "\n",
    "import helper"
   ]
  },
  {
   "cell_type": "markdown",
   "metadata": {},
   "source": [
    "## Building the network\n",
    "\n",
    "Here you should define your network. As with MNIST, each image is 28x28 which is a total of 784 pixels, and there are 10 classes. You should include at least one hidden layer. We suggest you use ReLU activations for the layers and to return the logits from the forward pass. It's up to you how many layers you add and the size of those layers."
   ]
  },
  {
   "cell_type": "code",
   "execution_count": 66,
   "metadata": {},
   "outputs": [],
   "source": [
    "# TODO: Define your network architecture here\n",
    "class Network(nn.Module):\n",
    "    def __init__(self):\n",
    "        super().__init__()\n",
    "        # Defining the layers, 196, 49, 10 units each\n",
    "        self.fc1 = nn.Linear(784, 392)\n",
    "        self.fc2 = nn.Linear(392, 196)\n",
    "        # Output layer, 10 units - one for each fashion class\n",
    "        self.fc3 = nn.Linear(196, 10)\n",
    "    \n",
    "    def forward(self, x):\n",
    "        x = self.fc1(x)\n",
    "        x = F.relu(x)\n",
    "        x = self.fc2(x)\n",
    "        x = F.relu(x)\n",
    "        x = self.fc3(x)\n",
    "        return x\n",
    "    \n",
    "    def predict(self, x):\n",
    "        logits = self.forward(x)\n",
    "        return F.softmax(logits, dim=1)\n",
    "        "
   ]
  },
  {
   "cell_type": "markdown",
   "metadata": {},
   "source": [
    "# Train the network\n",
    "\n",
    "Now you should create your network and train it. First you'll want to define [the criterion](http://pytorch.org/docs/master/nn.html#loss-functions) ( something like `nn.CrossEntropyLoss`) and [the optimizer](http://pytorch.org/docs/master/optim.html) (typically `optim.SGD` or `optim.Adam`).\n",
    "\n",
    "Then write the training code. Remember the training pass is a fairly straightforward process:\n",
    "\n",
    "* Make a forward pass through the network to get the logits \n",
    "* Use the logits to calculate the loss\n",
    "* Perform a backward pass through the network with `loss.backward()` to calculate the gradients\n",
    "* Take a step with the optimizer to update the weights\n",
    "\n",
    "By adjusting the hyperparameters (hidden units, learning rate, etc), you should be able to get the training loss below 0.4."
   ]
  },
  {
   "cell_type": "code",
   "execution_count": 67,
   "metadata": {},
   "outputs": [],
   "source": [
    "# TODO: Create the network, define the criterion and optimizer\n",
    "model = Network()\n",
    "criterion = nn.CrossEntropyLoss()\n",
    "optimizer = optim.SGD(model.parameters(), lr=0.001)\n",
    "\n",
    "epochs = 5\n",
    "print_every = 50\n",
    "steps = 0"
   ]
  },
  {
   "cell_type": "code",
   "execution_count": 68,
   "metadata": {},
   "outputs": [
    {
     "name": "stdout",
     "output_type": "stream",
     "text": [
      "Epoch 1/5 - loss: 2.3025258016586303\n",
      "Epoch 1/5 - loss: 2.2819437074661253\n",
      "Epoch 1/5 - loss: 2.263685550689697\n",
      "Epoch 1/5 - loss: 2.2428577852249147\n",
      "Epoch 1/5 - loss: 2.2228684329986574\n",
      "Epoch 1/5 - loss: 2.2055250883102415\n",
      "Epoch 1/5 - loss: 2.1880120706558226\n",
      "Epoch 1/5 - loss: 2.1685804986953734\n",
      "Epoch 1/5 - loss: 2.151423134803772\n",
      "Epoch 1/5 - loss: 2.132169237136841\n",
      "Epoch 1/5 - loss: 2.1017763233184814\n",
      "Epoch 1/5 - loss: 2.064196593761444\n",
      "Epoch 1/5 - loss: 2.049501874446869\n",
      "Epoch 1/5 - loss: 2.0268901872634886\n",
      "Epoch 1/5 - loss: 1.9885952258110047\n",
      "Epoch 1/5 - loss: 1.9757899641990662\n",
      "Epoch 1/5 - loss: 1.9471840357780457\n",
      "Epoch 1/5 - loss: 1.9203691673278809\n",
      "Epoch 1/5 - loss: 1.8733065056800842\n",
      "Epoch 1/5 - loss: 1.8469381856918334\n",
      "Epoch 1/5 - loss: 1.8265555787086487\n",
      "Epoch 1/5 - loss: 1.7787345194816588\n",
      "Epoch 1/5 - loss: 1.7591019344329835\n",
      "Epoch 1/5 - loss: 1.6938858103752137\n",
      "Epoch 1/5 - loss: 1.667955093383789\n",
      "Epoch 1/5 - loss: 1.6502118611335754\n",
      "Epoch 1/5 - loss: 1.620554006099701\n",
      "Epoch 1/5 - loss: 1.5540103936195373\n",
      "Epoch 1/5 - loss: 1.5365655755996703\n",
      "Epoch 1/5 - loss: 1.5494453835487365\n",
      "Epoch 1/5 - loss: 1.497519166469574\n",
      "Epoch 1/5 - loss: 1.4680796599388122\n",
      "Epoch 1/5 - loss: 1.4325212383270263\n",
      "Epoch 1/5 - loss: 1.3873469161987304\n",
      "Epoch 1/5 - loss: 1.3704737472534179\n",
      "Epoch 1/5 - loss: 1.3470706748962402\n",
      "Epoch 1/5 - loss: 1.3240606379508972\n",
      "Epoch 2/5 - loss: 0.646174647808075\n",
      "Epoch 2/5 - loss: 1.2745438456535338\n",
      "Epoch 2/5 - loss: 1.2626322674751282\n",
      "Epoch 2/5 - loss: 1.2193879795074463\n",
      "Epoch 2/5 - loss: 1.1989838695526123\n",
      "Epoch 2/5 - loss: 1.1873473823070526\n",
      "Epoch 2/5 - loss: 1.173274029493332\n",
      "Epoch 2/5 - loss: 1.1605517959594727\n",
      "Epoch 2/5 - loss: 1.1082361435890198\n",
      "Epoch 2/5 - loss: 1.1191195154190063\n",
      "Epoch 2/5 - loss: 1.1355016684532167\n",
      "Epoch 2/5 - loss: 1.1108348155021668\n",
      "Epoch 2/5 - loss: 1.0601878786087036\n",
      "Epoch 2/5 - loss: 1.0654840862751007\n",
      "Epoch 2/5 - loss: 1.0101493513584137\n",
      "Epoch 2/5 - loss: 1.0245805180072785\n",
      "Epoch 2/5 - loss: 1.0206848692893982\n",
      "Epoch 2/5 - loss: 0.9937372350692749\n",
      "Epoch 2/5 - loss: 0.9894507873058319\n",
      "Epoch 2/5 - loss: 0.9702097737789154\n",
      "Epoch 2/5 - loss: 0.9817230153083801\n",
      "Epoch 2/5 - loss: 0.9826553511619568\n",
      "Epoch 2/5 - loss: 0.9586580419540405\n",
      "Epoch 2/5 - loss: 0.9446229898929596\n",
      "Epoch 2/5 - loss: 0.9289265716075897\n",
      "Epoch 2/5 - loss: 0.8940700399875641\n",
      "Epoch 2/5 - loss: 0.943824245929718\n",
      "Epoch 2/5 - loss: 0.9215910816192627\n",
      "Epoch 2/5 - loss: 0.8863998007774353\n",
      "Epoch 2/5 - loss: 0.9224730026721955\n",
      "Epoch 2/5 - loss: 0.8818675744533538\n",
      "Epoch 2/5 - loss: 0.8806459534168244\n",
      "Epoch 2/5 - loss: 0.8848234331607818\n",
      "Epoch 2/5 - loss: 0.8914364612102509\n",
      "Epoch 2/5 - loss: 0.8697353482246399\n",
      "Epoch 2/5 - loss: 0.8185614109039306\n",
      "Epoch 2/5 - loss: 0.8392127466201782\n",
      "Epoch 2/5 - loss: 0.8423331654071808\n",
      "Epoch 3/5 - loss: 0.8325986790657044\n",
      "Epoch 3/5 - loss: 0.8482821798324585\n",
      "Epoch 3/5 - loss: 0.8312838912010193\n",
      "Epoch 3/5 - loss: 0.8311924469470978\n",
      "Epoch 3/5 - loss: 0.7819704842567444\n",
      "Epoch 3/5 - loss: 0.7839865875244141\n",
      "Epoch 3/5 - loss: 0.8045564305782318\n",
      "Epoch 3/5 - loss: 0.7897326678037644\n",
      "Epoch 3/5 - loss: 0.7922246217727661\n",
      "Epoch 3/5 - loss: 0.7695253169536591\n",
      "Epoch 3/5 - loss: 0.7925664460659028\n",
      "Epoch 3/5 - loss: 0.7668775933980941\n",
      "Epoch 3/5 - loss: 0.763642093539238\n",
      "Epoch 3/5 - loss: 0.7421782326698303\n",
      "Epoch 3/5 - loss: 0.7851114249229432\n",
      "Epoch 3/5 - loss: 0.7547483438253403\n",
      "Epoch 3/5 - loss: 0.7350429892539978\n",
      "Epoch 3/5 - loss: 0.7500929093360901\n",
      "Epoch 3/5 - loss: 0.7694541108608246\n",
      "Epoch 3/5 - loss: 0.7397525066137314\n",
      "Epoch 3/5 - loss: 0.7208787310123443\n",
      "Epoch 3/5 - loss: 0.7640022206306457\n",
      "Epoch 3/5 - loss: 0.7426009941101074\n",
      "Epoch 3/5 - loss: 0.7325219476222992\n",
      "Epoch 3/5 - loss: 0.7459460198879242\n",
      "Epoch 3/5 - loss: 0.73499571621418\n",
      "Epoch 3/5 - loss: 0.7273000812530518\n",
      "Epoch 3/5 - loss: 0.7325622355937957\n",
      "Epoch 3/5 - loss: 0.6932805341482162\n",
      "Epoch 3/5 - loss: 0.7229644429683685\n",
      "Epoch 3/5 - loss: 0.703829379081726\n",
      "Epoch 3/5 - loss: 0.6906291937828064\n",
      "Epoch 3/5 - loss: 0.7310790890455245\n",
      "Epoch 3/5 - loss: 0.6733679020404816\n",
      "Epoch 3/5 - loss: 0.6645321881771088\n",
      "Epoch 3/5 - loss: 0.6622217375040055\n",
      "Epoch 3/5 - loss: 0.6871213579177856\n",
      "Epoch 4/5 - loss: 0.33858357191085814\n",
      "Epoch 4/5 - loss: 0.6941665774583816\n",
      "Epoch 4/5 - loss: 0.6969572788476944\n",
      "Epoch 4/5 - loss: 0.7038750898838043\n",
      "Epoch 4/5 - loss: 0.6685784518718719\n",
      "Epoch 4/5 - loss: 0.6906343942880631\n",
      "Epoch 4/5 - loss: 0.641384922862053\n",
      "Epoch 4/5 - loss: 0.7005064123868943\n",
      "Epoch 4/5 - loss: 0.6869005858898163\n",
      "Epoch 4/5 - loss: 0.6953547841310501\n",
      "Epoch 4/5 - loss: 0.6631005728244781\n",
      "Epoch 4/5 - loss: 0.6457197976112365\n",
      "Epoch 4/5 - loss: 0.6692284113168716\n",
      "Epoch 4/5 - loss: 0.6376295781135559\n",
      "Epoch 4/5 - loss: 0.6846836709976196\n",
      "Epoch 4/5 - loss: 0.6686741250753403\n",
      "Epoch 4/5 - loss: 0.6472719991207123\n",
      "Epoch 4/5 - loss: 0.6513811832666397\n",
      "Epoch 4/5 - loss: 0.6457776081562042\n",
      "Epoch 4/5 - loss: 0.6413426768779754\n",
      "Epoch 4/5 - loss: 0.6570499885082245\n",
      "Epoch 4/5 - loss: 0.650436937212944\n",
      "Epoch 4/5 - loss: 0.6607548505067825\n",
      "Epoch 4/5 - loss: 0.6443203485012055\n",
      "Epoch 4/5 - loss: 0.6696069997549057\n",
      "Epoch 4/5 - loss: 0.6239996439218521\n",
      "Epoch 4/5 - loss: 0.6297290235757828\n",
      "Epoch 4/5 - loss: 0.6604719197750092\n",
      "Epoch 4/5 - loss: 0.6316587471961975\n",
      "Epoch 4/5 - loss: 0.6276244324445724\n",
      "Epoch 4/5 - loss: 0.6375825530290604\n",
      "Epoch 4/5 - loss: 0.6357016295194626\n",
      "Epoch 4/5 - loss: 0.6707505881786346\n",
      "Epoch 4/5 - loss: 0.6434056490659714\n",
      "Epoch 4/5 - loss: 0.644271069765091\n",
      "Epoch 4/5 - loss: 0.6296927934885025\n",
      "Epoch 4/5 - loss: 0.6379045766592025\n",
      "Epoch 4/5 - loss: 0.6325805974006653\n",
      "Epoch 5/5 - loss: 0.6184944587945939\n",
      "Epoch 5/5 - loss: 0.625429760813713\n",
      "Epoch 5/5 - loss: 0.6159496772289276\n",
      "Epoch 5/5 - loss: 0.6446836918592453\n",
      "Epoch 5/5 - loss: 0.6236393105983734\n",
      "Epoch 5/5 - loss: 0.6090151244401931\n",
      "Epoch 5/5 - loss: 0.6094633901119232\n",
      "Epoch 5/5 - loss: 0.6267989653348923\n",
      "Epoch 5/5 - loss: 0.6146251517534256\n",
      "Epoch 5/5 - loss: 0.6122490191459655\n",
      "Epoch 5/5 - loss: 0.6029694253206253\n",
      "Epoch 5/5 - loss: 0.620030301809311\n",
      "Epoch 5/5 - loss: 0.6310442572832108\n",
      "Epoch 5/5 - loss: 0.5951741397380829\n",
      "Epoch 5/5 - loss: 0.602551953792572\n",
      "Epoch 5/5 - loss: 0.6069349592924118\n",
      "Epoch 5/5 - loss: 0.608656233549118\n",
      "Epoch 5/5 - loss: 0.5794614988565445\n",
      "Epoch 5/5 - loss: 0.6065407902002334\n",
      "Epoch 5/5 - loss: 0.6160014694929123\n",
      "Epoch 5/5 - loss: 0.5955471283197403\n",
      "Epoch 5/5 - loss: 0.5978354334831237\n",
      "Epoch 5/5 - loss: 0.6050776398181915\n",
      "Epoch 5/5 - loss: 0.5965077507495881\n",
      "Epoch 5/5 - loss: 0.5852342355251312\n",
      "Epoch 5/5 - loss: 0.6134768593311309\n",
      "Epoch 5/5 - loss: 0.6110662585496902\n",
      "Epoch 5/5 - loss: 0.5952404367923737\n",
      "Epoch 5/5 - loss: 0.5907897263765335\n",
      "Epoch 5/5 - loss: 0.5965171033143997\n",
      "Epoch 5/5 - loss: 0.6245695841312409\n",
      "Epoch 5/5 - loss: 0.6180710834264755\n",
      "Epoch 5/5 - loss: 0.6091933381557465\n",
      "Epoch 5/5 - loss: 0.5766406583786011\n",
      "Epoch 5/5 - loss: 0.5656007224321365\n",
      "Epoch 5/5 - loss: 0.6236919844150544\n",
      "Epoch 5/5 - loss: 0.5718100440502166\n"
     ]
    }
   ],
   "source": [
    "# Train the network\n",
    "\n",
    "for epoch in range(epochs):\n",
    "    running_loss = 0\n",
    "    for images, labels in iter(trainloader):\n",
    "        steps += 1\n",
    "        \n",
    "        # Convert 2D-images into 1D-input-vector\n",
    "        images.resize_(images.size()[0], 28*28)\n",
    "        \n",
    "        # Wrap into Variables and clear gradients\n",
    "        inputs = Variable(images)\n",
    "        targets = Variable(labels)\n",
    "        optimizer.zero_grad()\n",
    "        \n",
    "        # Forward pass\n",
    "        output = model.forward(inputs)  # Forward pass\n",
    "        loss = criterion(output, targets)  # Calculate loss for current batch\n",
    "        \n",
    "        # Backward pass and optimization\n",
    "        loss.backward()\n",
    "        optimizer.step()\n",
    "        \n",
    "        running_loss += loss.item()  # Accumulate loss for observation purposes\n",
    "        if steps%print_every == 0:\n",
    "            print('Epoch {}/{} - loss: {}'.format(epoch+1, epochs, running_loss/print_every))\n",
    "            running_loss = 0\n"
   ]
  },
  {
   "cell_type": "code",
   "execution_count": 70,
   "metadata": {},
   "outputs": [
    {
     "data": {
      "image/png": "[encoded data removed]",
      "text/plain": [
       "<Figure size 432x504 with 2 Axes>"
      ]
     },
     "metadata": {
      "image/png": {
       "height": 197,
       "width": 370
      }
     },
     "output_type": "display_data"
    }
   ],
   "source": [
    "# Test out your network!\n",
    "\n",
    "dataiter = iter(testloader)\n",
    "images, labels = dataiter.next()\n",
    "img = images[0]\n",
    "# Convert 2D image to 1D vector\n",
    "img = img.resize_(1, 784)\n",
    "\n",
    "# TODO: Calculate the class probabilities (softmax) for img\n",
    "ps = F.softmax(model.forward(Variable(img)), dim=1)\n",
    "\n",
    "# Plot the image and probabilities\n",
    "helper.view_classify(img.resize_(1, 28, 28), ps)"
   ]
  },
  {
   "cell_type": "markdown",
   "metadata": {},
   "source": [
    "Now that your network is trained, you'll want to save it to disk so you can load it later instead of training it again. Obviously, it's impractical to train a network every time you need one. In practice, you'll train it once, save the model, then reload it for further training or making predictions. In the next part, I'll show you how to save and load trained models."
   ]
  }
 ],
 "metadata": {
  "kernelspec": {
   "display_name": "Python 3",
   "language": "python",
   "name": "python3"
  },
  "language_info": {
   "codemirror_mode": {
    "name": "ipython",
    "version": 3
   },
   "file_extension": ".py",
   "mimetype": "text/x-python",
   "name": "python",
   "nbconvert_exporter": "python",
   "pygments_lexer": "ipython3",
   "version": "3.6.5"
  }
 },
 "nbformat": 4,
 "nbformat_minor": 2
}
