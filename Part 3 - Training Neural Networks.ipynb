{
 "cells": [
  {
   "cell_type": "markdown",
   "metadata": {},
   "source": [
    "# Training Neural Networks\n",
    "\n",
    "The network we built in the previous part is dumb, it doesn't know anything about our handwritten digits. Neural networks with non-linear activations work like universal function approximators. There is some function that maps your input to the output. For example, images of handwritten digits to class probabilities. The power of neural networks is that we can train them to approximate this function, and basically any function given enough data and compute time.\n",
    "\n",
    "<img src=\"assets/function_approx.png\" width=500px>\n",
    "\n",
    "At first the network is naive, it doesn't know the function mapping the inputs to the outputs. We train the network by showing it examples of real data, then adjusting the network parameters such that it approximates this function.\n",
    "\n",
    "To find these parameters, we need to know how poorly the network is predicting the real outputs. For this we calculate a **loss function** (also called the cost), a measure of our prediction error. For example, the mean squared loss is often used in regression and binary classification problems\n",
    "\n",
    "$$\n",
    "\\ell = \\frac{1}{2n}\\sum_i^n{\\left(y_i - \\hat{y}_i\\right)^2}\n",
    "$$\n",
    "\n",
    "where $n$ is the number of training examples, $y_i$ are the true labels, and $\\hat{y}_i$ are the predicted labels.\n",
    "\n",
    "By minimizing this loss with respect to the network parameters, we can find configurations where the loss is at a minimum and the network is able to predict the correct labels with high accuracy. We find this minimum using a process called **gradient descent**. The gradient is the slope of the loss function and points in the direction of fastest change. To get to the minimum in the least amount of time, we then want to follow the gradient (downwards). You can think of this like descending a mountain by following the steepest slope to the base.\n",
    "\n",
    "<img src='assets/gradient_descent.png' width=350px>"
   ]
  },
  {
   "cell_type": "markdown",
   "metadata": {},
   "source": [
    "## Backpropagation\n",
    "\n",
    "For single layer networks, gradient descent is simple to implement. However, it's more complicated for deeper, multilayer neural networks like the one we've built. Complicated enough that it took about 30 years before researchers figured out how to train multilayer networks, although it's straightforward once you learn about it. \n",
    "\n",
    "This is done through **backpropagation** which is really just an application of the chain rule from calculus. It's easiest to understand if we convert a two layer network into a graph representation.\n",
    "\n",
    "<img src='assets/w1_backprop_graph.png' width=400px>\n",
    "\n",
    "In the forward pass through the network, our data and operations go from right to left here. To train the weights with gradient descent, we propagate the gradient of the cost backwards through the network. Mathematically, this is really just calculating the gradient of the loss with respect to the weights using the chain rule.\n",
    "\n",
    "$$\n",
    "\\frac{\\partial \\ell}{\\partial w_1} = \\frac{\\partial l_1}{\\partial w_1} \\frac{\\partial s}{\\partial l_1} \\frac{\\partial l_2}{\\partial s} \\frac{\\partial \\ell}{\\partial l_2}\n",
    "$$\n",
    "\n",
    "We update our weights using this gradient with some learning rate $\\alpha$. \n",
    "\n",
    "$$\n",
    "w^\\prime = w - \\alpha \\frac{\\partial \\ell}{\\partial w}\n",
    "$$\n",
    "\n",
    "The learning rate is set such that the weight update steps are small enough that the iterative method settles in a minimum.\n",
    "\n",
    "The first thing we need to do for training is define our loss function. In PyTorch, you'll usually see this as `criterion`. Here we're using softmax output, so we want to use `criterion = nn.CrossEntropyLoss()` as our loss. Later when training, you use `loss = criterion(output, targets)` to calculate the actual loss.\n",
    "\n",
    "We also need to define the optimizer we're using, SGD or Adam, or something along those lines. Here I'll just use SGD with `torch.optim.SGD`, passing in the network parameters and the learning rate."
   ]
  },
  {
   "cell_type": "markdown",
   "metadata": {},
   "source": [
    "## Autograd\n",
    "\n",
    "Torch provides a module, `autograd`, for automatically calculating the gradient of tensors. It does this by keeping track of operations performed on tensors. For PyTorch to track operations, you need to wrap a tensor with the `Variable` class from `torch.autograd`. You can get the tensor back with the `.data` attribute of the Variable.\n",
    "\n",
    "The gradients are computed with respect to some variable `z` with `z.backward()`. This does a backward pass through the operations that created `z`."
   ]
  },
  {
   "cell_type": "code",
   "execution_count": 1,
   "metadata": {},
   "outputs": [],
   "source": [
    "%matplotlib inline\n",
    "%config InlineBackend.figure_format = 'retina'\n",
    "\n",
    "import numpy as np\n",
    "import time\n",
    "\n",
    "import torch\n",
    "from torch import nn\n",
    "from torch import optim\n",
    "import torch.nn.functional as F\n",
    "from torch.autograd import Variable\n",
    "\n",
    "import helper"
   ]
  },
  {
   "cell_type": "code",
   "execution_count": 2,
   "metadata": {},
   "outputs": [
    {
     "name": "stdout",
     "output_type": "stream",
     "text": [
      "tensor([[ 0.0720, -0.9534],\n",
      "        [ 0.0954, -2.6131]])\n"
     ]
    }
   ],
   "source": [
    "x = torch.randn(2,2)\n",
    "x = Variable(x, requires_grad=True)\n",
    "print(x)"
   ]
  },
  {
   "cell_type": "code",
   "execution_count": 3,
   "metadata": {},
   "outputs": [
    {
     "name": "stdout",
     "output_type": "stream",
     "text": [
      "tensor([[ 0.0052,  0.9090],\n",
      "        [ 0.0091,  6.8281]])\n"
     ]
    }
   ],
   "source": [
    "y = x**2\n",
    "print(y)"
   ]
  },
  {
   "cell_type": "markdown",
   "metadata": {},
   "source": [
    "Below we can see the operation that created `y`, a power operation `PowBackward0`."
   ]
  },
  {
   "cell_type": "code",
   "execution_count": 4,
   "metadata": {},
   "outputs": [
    {
     "name": "stdout",
     "output_type": "stream",
     "text": [
      "<PowBackward0 object at 0x1038594a8>\n"
     ]
    }
   ],
   "source": [
    "## grad_fn shows the function that generated this variable\n",
    "print(y.grad_fn)"
   ]
  },
  {
   "cell_type": "markdown",
   "metadata": {},
   "source": [
    "The autgrad module keeps track of these operations and knows how to calculate the gradient for each one. In this way, it's able to calculate the gradients for a chain of operations, with respect to any one tensor. Let's reduce the tensor `y` to a scalar value, the mean."
   ]
  },
  {
   "cell_type": "code",
   "execution_count": 5,
   "metadata": {},
   "outputs": [
    {
     "name": "stdout",
     "output_type": "stream",
     "text": [
      "tensor(1.9379)\n"
     ]
    }
   ],
   "source": [
    "z = y.mean()\n",
    "print(z)"
   ]
  },
  {
   "cell_type": "markdown",
   "metadata": {},
   "source": [
    "You can check the gradients for `x` and `y` but they are empty currently."
   ]
  },
  {
   "cell_type": "code",
   "execution_count": 6,
   "metadata": {},
   "outputs": [
    {
     "name": "stdout",
     "output_type": "stream",
     "text": [
      "None\n"
     ]
    }
   ],
   "source": [
    "print(x.grad)"
   ]
  },
  {
   "cell_type": "markdown",
   "metadata": {},
   "source": [
    "To calculate the gradients, you need to run the `.backward` method on a Variable, `z` for example. This will calculate the gradient for `z` with respect to `x`\n",
    "\n",
    "$$\n",
    "\\frac{\\partial z}{\\partial x} = \\frac{\\partial}{\\partial x}\\left[\\frac{1}{n}\\sum_i^n x_i^2\\right] = \\frac{x}{2}\n",
    "$$"
   ]
  },
  {
   "cell_type": "code",
   "execution_count": 7,
   "metadata": {},
   "outputs": [
    {
     "name": "stdout",
     "output_type": "stream",
     "text": [
      "tensor([[ 0.0360, -0.4767],\n",
      "        [ 0.0477, -1.3065]])\n",
      "tensor([[ 0.0360, -0.4767],\n",
      "        [ 0.0477, -1.3065]])\n"
     ]
    }
   ],
   "source": [
    "z.backward()\n",
    "print(x.grad)\n",
    "print(x/2)"
   ]
  },
  {
   "cell_type": "markdown",
   "metadata": {},
   "source": [
    "These gradients calculations are particularly useful for neural networks. For training we need the gradients of the weights with respect to the cost. With PyTorch, we run data forward through the network to calculate the cost, then, go backwards to calculate the gradients with respect to the cost. Once we have the gradients we can make a gradient descent step. "
   ]
  },
  {
   "cell_type": "markdown",
   "metadata": {},
   "source": [
    "## Get the data and define the network\n",
    "\n",
    "The same as we saw in part 3, we'll load the MNIST dataset and define our network."
   ]
  },
  {
   "cell_type": "code",
   "execution_count": 8,
   "metadata": {},
   "outputs": [],
   "source": [
    "from torchvision import datasets, transforms\n",
    "\n",
    "# Define a transform to normalize the data\n",
    "transform = transforms.Compose([transforms.ToTensor(),\n",
    "                              transforms.Normalize((0.5, 0.5, 0.5), (0.5, 0.5, 0.5)),\n",
    "                             ])\n",
    "# Download and load the training data\n",
    "trainset = datasets.MNIST('MNIST_data/', download=True, train=True, transform=transform)\n",
    "trainloader = torch.utils.data.DataLoader(trainset, batch_size=64, shuffle=True)\n",
    "\n",
    "# Download and load the test data\n",
    "testset = datasets.MNIST('MNIST_data/', download=True, train=False, transform=transform)\n",
    "testloader = torch.utils.data.DataLoader(testset, batch_size=64, shuffle=True)"
   ]
  },
  {
   "cell_type": "code",
   "execution_count": 9,
   "metadata": {},
   "outputs": [],
   "source": [
    "class Network(nn.Module):\n",
    "    def __init__(self):\n",
    "        super().__init__()\n",
    "        # Defining the layers, 200, 50, 10 units each\n",
    "        self.fc1 = nn.Linear(784, 200)\n",
    "        self.fc2 = nn.Linear(200, 50)\n",
    "        # Output layer, 10 units - one for each digit\n",
    "        self.fc3 = nn.Linear(50, 10)\n",
    "        \n",
    "    def forward(self, x):\n",
    "        ''' Forward pass through the network, returns the output logits '''\n",
    "        \n",
    "        x = self.fc1(x)\n",
    "        x = F.relu(x)\n",
    "        x = self.fc2(x)\n",
    "        x = F.relu(x)\n",
    "        x = self.fc3(x)\n",
    "        \n",
    "        return x\n",
    "    \n",
    "    def predict(self, x):\n",
    "        ''' This function predicts classes by calculating the softmax '''\n",
    "        logits = self.forward(x)\n",
    "        return F.softmax(logits, dim=1)"
   ]
  },
  {
   "cell_type": "markdown",
   "metadata": {},
   "source": [
    "## Training the network!\n",
    "\n",
    "The first thing we need to do for training is define our loss function. In PyTorch, you'll usually see this as `criterion`. Here we're using softmax output, so we want to use `criterion = nn.CrossEntropyLoss()` as our loss. Later when training, you use `loss = criterion(output, targets)` to calculate the actual loss.\n",
    "\n",
    "We also need to define the optimizer we're using, SGD or Adam, or something along those lines. Here I'll just use SGD with `torch.optim.SGD`, passing in the network parameters and the learning rate."
   ]
  },
  {
   "cell_type": "code",
   "execution_count": 16,
   "metadata": {},
   "outputs": [],
   "source": [
    "net = Network()\n",
    "criterion = nn.CrossEntropyLoss()\n",
    "optimizer = optim.SGD(net.parameters(), lr=0.01)"
   ]
  },
  {
   "cell_type": "markdown",
   "metadata": {},
   "source": [
    "First, let's consider just one learning step before looping through all the data. The general process with PyTorch:\n",
    "\n",
    "* Make a forward pass through the network to get the logits \n",
    "* Use the logits to calculate the loss\n",
    "* Perform a backward pass through the network with `loss.backward()` to calculate the gradients\n",
    "* Take a step with the optimizer to update the weights\n",
    "\n",
    "Below I'll go through one training step and print out the weights and gradients so you can see how it changes."
   ]
  },
  {
   "cell_type": "code",
   "execution_count": 23,
   "metadata": {},
   "outputs": [
    {
     "name": "stdout",
     "output_type": "stream",
     "text": [
      "Initial weights -  Parameter containing:\n",
      "tensor([[-7.3970e-03, -1.3443e-02,  1.5715e-02,  ...,  2.5236e-02,\n",
      "          2.3439e-02, -3.0583e-02],\n",
      "        [-3.0332e-02,  1.5214e-02, -1.9511e-03,  ..., -1.7288e-03,\n",
      "         -3.5002e-02, -1.4031e-03],\n",
      "        [ 2.6006e-02, -1.3229e-02, -3.0452e-02,  ..., -5.2002e-03,\n",
      "          7.1182e-03, -8.8135e-03],\n",
      "        ...,\n",
      "        [-9.2471e-03, -7.4128e-03, -1.6456e-02,  ..., -1.8390e-02,\n",
      "         -8.9285e-03,  5.1865e-03],\n",
      "        [ 1.0069e-02,  2.7627e-02, -2.0568e-02,  ..., -2.7223e-03,\n",
      "         -1.1998e-02,  1.2758e-02],\n",
      "        [-5.2378e-03, -5.5891e-03,  1.7675e-02,  ..., -6.9776e-03,\n",
      "          3.8339e-03,  1.1061e-02]])\n",
      "Gradient - tensor(1.00000e-02 *\n",
      "       [[-0.0929, -0.0929, -0.0929,  ..., -0.0929, -0.0929, -0.0929],\n",
      "        [-0.2205, -0.2205, -0.2205,  ..., -0.2205, -0.2205, -0.2205],\n",
      "        [ 0.5091,  0.5091,  0.5091,  ...,  0.5091,  0.5091,  0.5091],\n",
      "        ...,\n",
      "        [-0.4684, -0.4684, -0.4684,  ..., -0.4684, -0.4684, -0.4684],\n",
      "        [-0.0319, -0.0319, -0.0319,  ..., -0.0319, -0.0319, -0.0319],\n",
      "        [-0.0125, -0.0125, -0.0125,  ..., -0.0125, -0.0125, -0.0125]])\n"
     ]
    }
   ],
   "source": [
    "print('Initial weights - ', net.fc1.weight)\n",
    "\n",
    "dataiter = iter(trainloader)\n",
    "images, labels = dataiter.next()\n",
    "images.resize_(64, 784)\n",
    "\n",
    "# Create Variables for the inputs and targets\n",
    "inputs = Variable(images)\n",
    "targets = Variable(labels)\n",
    "\n",
    "# Clear the gradients from all Variables\n",
    "optimizer.zero_grad()\n",
    "\n",
    "# Forward pass, then backward pass, then update weights\n",
    "output = net.forward(inputs)\n",
    "loss = criterion(output, targets)\n",
    "loss.backward()\n",
    "print('Gradient -', net.fc1.weight.grad)\n",
    "optimizer.step()"
   ]
  },
  {
   "cell_type": "code",
   "execution_count": 24,
   "metadata": {},
   "outputs": [
    {
     "name": "stdout",
     "output_type": "stream",
     "text": [
      "Updated weights -  Parameter containing:\n",
      "tensor([[-7.3970e-03, -1.3443e-02,  1.5715e-02,  ...,  2.5236e-02,\n",
      "          2.3439e-02, -3.0583e-02],\n",
      "        [-3.0332e-02,  1.5214e-02, -1.9511e-03,  ..., -1.7288e-03,\n",
      "         -3.5002e-02, -1.4031e-03],\n",
      "        [ 2.6006e-02, -1.3229e-02, -3.0452e-02,  ..., -5.2002e-03,\n",
      "          7.1182e-03, -8.8135e-03],\n",
      "        ...,\n",
      "        [-9.2471e-03, -7.4128e-03, -1.6456e-02,  ..., -1.8390e-02,\n",
      "         -8.9285e-03,  5.1865e-03],\n",
      "        [ 1.0069e-02,  2.7627e-02, -2.0568e-02,  ..., -2.7223e-03,\n",
      "         -1.1998e-02,  1.2758e-02],\n",
      "        [-5.2378e-03, -5.5891e-03,  1.7675e-02,  ..., -6.9776e-03,\n",
      "          3.8339e-03,  1.1061e-02]])\n"
     ]
    }
   ],
   "source": [
    "print('Updated weights - ', net.fc1.weight)"
   ]
  },
  {
   "cell_type": "markdown",
   "metadata": {},
   "source": [
    "### Training for real\n",
    "\n",
    "Now we'll put this algorithm into a loop so we can go through all the images. This is fairly straightforward. We'll loop through the mini-batches in our dataset, pass the data through the network to calculate the losses, get the gradients, then run the optimizer."
   ]
  },
  {
   "cell_type": "code",
   "execution_count": 25,
   "metadata": {},
   "outputs": [],
   "source": [
    "model = Network()\n",
    "optimizer = optim.SGD(model.parameters(), lr=0.003)"
   ]
  },
  {
   "cell_type": "code",
   "execution_count": 26,
   "metadata": {},
   "outputs": [
    {
     "name": "stdout",
     "output_type": "stream",
     "text": [
      "Epoch: 1/3...  Loss: 2.3054\n",
      "Epoch: 1/3...  Loss: 2.2787\n",
      "Epoch: 1/3...  Loss: 2.2570\n",
      "Epoch: 1/3...  Loss: 2.2342\n",
      "Epoch: 1/3...  Loss: 2.2076\n",
      "Epoch: 1/3...  Loss: 2.1826\n",
      "Epoch: 1/3...  Loss: 2.1484\n",
      "Epoch: 1/3...  Loss: 2.1126\n",
      "Epoch: 1/3...  Loss: 2.0796\n",
      "Epoch: 1/3...  Loss: 2.0365\n",
      "Epoch: 1/3...  Loss: 1.9815\n",
      "Epoch: 1/3...  Loss: 1.9254\n",
      "Epoch: 1/3...  Loss: 1.8834\n",
      "Epoch: 1/3...  Loss: 1.8124\n",
      "Epoch: 1/3...  Loss: 1.7619\n",
      "Epoch: 1/3...  Loss: 1.6908\n",
      "Epoch: 1/3...  Loss: 1.6400\n",
      "Epoch: 1/3...  Loss: 1.5428\n",
      "Epoch: 1/3...  Loss: 1.4715\n",
      "Epoch: 1/3...  Loss: 1.4233\n",
      "Epoch: 1/3...  Loss: 1.3366\n",
      "Epoch: 1/3...  Loss: 1.2914\n",
      "Epoch: 1/3...  Loss: 1.2589\n",
      "Epoch: 2/3...  Loss: 0.6335\n",
      "Epoch: 2/3...  Loss: 1.1298\n",
      "Epoch: 2/3...  Loss: 1.0747\n",
      "Epoch: 2/3...  Loss: 1.0359\n",
      "Epoch: 2/3...  Loss: 1.0069\n",
      "Epoch: 2/3...  Loss: 0.9546\n",
      "Epoch: 2/3...  Loss: 0.9211\n",
      "Epoch: 2/3...  Loss: 0.8922\n",
      "Epoch: 2/3...  Loss: 0.8482\n",
      "Epoch: 2/3...  Loss: 0.8272\n",
      "Epoch: 2/3...  Loss: 0.8295\n",
      "Epoch: 2/3...  Loss: 0.7781\n",
      "Epoch: 2/3...  Loss: 0.7493\n",
      "Epoch: 2/3...  Loss: 0.7167\n",
      "Epoch: 2/3...  Loss: 0.7053\n",
      "Epoch: 2/3...  Loss: 0.7136\n",
      "Epoch: 2/3...  Loss: 0.6886\n",
      "Epoch: 2/3...  Loss: 0.6556\n",
      "Epoch: 2/3...  Loss: 0.6473\n",
      "Epoch: 2/3...  Loss: 0.6452\n",
      "Epoch: 2/3...  Loss: 0.6284\n",
      "Epoch: 2/3...  Loss: 0.6262\n",
      "Epoch: 2/3...  Loss: 0.6037\n",
      "Epoch: 3/3...  Loss: 0.0632\n",
      "Epoch: 3/3...  Loss: 0.5913\n",
      "Epoch: 3/3...  Loss: 0.5816\n",
      "Epoch: 3/3...  Loss: 0.5733\n",
      "Epoch: 3/3...  Loss: 0.5616\n",
      "Epoch: 3/3...  Loss: 0.5592\n",
      "Epoch: 3/3...  Loss: 0.5355\n",
      "Epoch: 3/3...  Loss: 0.5239\n",
      "Epoch: 3/3...  Loss: 0.5164\n",
      "Epoch: 3/3...  Loss: 0.5340\n",
      "Epoch: 3/3...  Loss: 0.5081\n",
      "Epoch: 3/3...  Loss: 0.5021\n",
      "Epoch: 3/3...  Loss: 0.5098\n",
      "Epoch: 3/3...  Loss: 0.4919\n",
      "Epoch: 3/3...  Loss: 0.5176\n",
      "Epoch: 3/3...  Loss: 0.5010\n",
      "Epoch: 3/3...  Loss: 0.4758\n",
      "Epoch: 3/3...  Loss: 0.4635\n",
      "Epoch: 3/3...  Loss: 0.4658\n",
      "Epoch: 3/3...  Loss: 0.4691\n",
      "Epoch: 3/3...  Loss: 0.4448\n",
      "Epoch: 3/3...  Loss: 0.4648\n",
      "Epoch: 3/3...  Loss: 0.4526\n",
      "Epoch: 3/3...  Loss: 0.4659\n"
     ]
    }
   ],
   "source": [
    "epochs = 3\n",
    "print_every = 40\n",
    "steps = 0\n",
    "for e in range(epochs):\n",
    "    running_loss = 0\n",
    "    for images, labels in iter(trainloader):\n",
    "        steps += 1\n",
    "        # Flatten MNIST images into a 784 long vector\n",
    "        images.resize_(images.size()[0], 784)\n",
    "        \n",
    "        # Wrap images and labels in Variables so we can calculate gradients\n",
    "        inputs = Variable(images)\n",
    "        targets = Variable(labels)\n",
    "        optimizer.zero_grad()\n",
    "        \n",
    "        # Forward and backward passes\n",
    "        output = model.forward(inputs)\n",
    "        loss = criterion(output, targets)\n",
    "        loss.backward()\n",
    "        optimizer.step()\n",
    "        \n",
    "        running_loss += loss.item() #loss.data[0] - Changed to avoid warning and later error in PyTorch 0.5.0\n",
    "        \n",
    "        if steps % print_every == 0:\n",
    "            print(\"Epoch: {}/{}... \".format(e+1, epochs),\n",
    "                  \"Loss: {:.4f}\".format(running_loss/print_every))\n",
    "            \n",
    "            running_loss = 0"
   ]
  },
  {
   "cell_type": "code",
   "execution_count": 27,
   "metadata": {},
   "outputs": [
    {
     "data": {
      "image/png": "[encoded data removed]",
      "text/plain": [
       "<Figure size 432x504 with 2 Axes>"
      ]
     },
     "metadata": {
      "image/png": {
       "height": 197,
       "width": 370
      }
     },
     "output_type": "display_data"
    }
   ],
   "source": [
    "dataiter = iter(testloader)\n",
    "images, labels = dataiter.next()\n",
    "\n",
    "img = images[0]\n",
    "logits = model.forward(Variable(img.resize_(1, 784)))\n",
    "ps = F.softmax(logits, dim=1)\n",
    "helper.view_classify(img.resize_(1, 28, 28), ps)"
   ]
  },
  {
   "cell_type": "markdown",
   "metadata": {},
   "source": [
    "Now our network isn't so dumb. It can accurately predict the digits in our images. Next up you'll write the code for training a neural network on a more complex dataset."
   ]
  }
 ],
 "metadata": {
  "kernelspec": {
   "display_name": "Python 3",
   "language": "python",
   "name": "python3"
  },
  "language_info": {
   "codemirror_mode": {
    "name": "ipython",
    "version": 3
   },
   "file_extension": ".py",
   "mimetype": "text/x-python",
   "name": "python",
   "nbconvert_exporter": "python",
   "pygments_lexer": "ipython3",
   "version": "3.6.5"
  }
 },
 "nbformat": 4,
 "nbformat_minor": 2
}
